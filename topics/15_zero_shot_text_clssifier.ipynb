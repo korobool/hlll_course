{
  "nbformat": 4,
  "nbformat_minor": 0,
  "metadata": {
    "colab": {
      "name": "zero_shot_text_clssifier.ipynb",
      "provenance": [],
      "collapsed_sections": []
    },
    "kernelspec": {
      "name": "python3",
      "display_name": "Python 3"
    },
    "language_info": {
      "name": "python"
    }
  },
  "cells": [
    {
      "cell_type": "code",
      "source": [
        "!pip install transformers -q\n",
        "!pip install matplotlib -q"
      ],
      "metadata": {
        "id": "S4Uf4zHiiOjt"
      },
      "execution_count": 1,
      "outputs": []
    },
    {
      "cell_type": "markdown",
      "source": [
        "## Load The Model"
      ],
      "metadata": {
        "id": "Ce--nwJgvGtn"
      }
    },
    {
      "cell_type": "code",
      "execution_count": 2,
      "metadata": {
        "id": "cgDrzLGLh6La"
      },
      "outputs": [],
      "source": [
        "from transformers import pipeline\n",
        "classifier = pipeline('zero-shot-classification',\n",
        "                      model='facebook/bart-large-mnli')\n",
        "hypothesis_template = 'This text is about {}.'"
      ]
    },
    {
      "cell_type": "markdown",
      "source": [
        "# Zero Shot Classification Example\n",
        "\n",
        "1. Define CV content\n",
        "2. Define Classes as textual descriptions (Any length)\n",
        "3. Get scores of relevance"
      ],
      "metadata": {
        "id": "1Lcs3mhfvKyp"
      }
    },
    {
      "cell_type": "markdown",
      "source": [
        "### CV/resume text"
      ],
      "metadata": {
        "id": "8aDLEb-H68oM"
      }
    },
    {
      "cell_type": "code",
      "source": [
        "resume = '''\n",
        "Base skills\n",
        "I am a consultant in Artificial Intelligence and software engineering.\n",
        "- Research: AI/ML/NLP/Image Processing/Signal Processing\n",
        "- Development: ai-based solutions wrapped in production ready web services and standalone applications.\n",
        "\n",
        "'''"
      ],
      "metadata": {
        "id": "oUpb3VpR6pf6"
      },
      "execution_count": 3,
      "outputs": []
    },
    {
      "cell_type": "markdown",
      "source": [
        "### Skills you want to evaluate for"
      ],
      "metadata": {
        "id": "2KVtdull7BPE"
      }
    },
    {
      "cell_type": "code",
      "source": [
        "skills = ['Machine Learning', \n",
        "        'copywriting', \n",
        "        'gaming', \n",
        "        'Natural Language Processing',\n",
        "        'blockchain',\n",
        "        'front-end',\n",
        "        'php',\n",
        "        'risks management']"
      ],
      "metadata": {
        "id": "Z8-0uNEB6zVO"
      },
      "execution_count": 4,
      "outputs": []
    },
    {
      "cell_type": "code",
      "source": [
        "scored = classifier(resume, skills,\n",
        "           hypothesis_template=hypothesis_template,\n",
        "           multi_label=True)"
      ],
      "metadata": {
        "id": "6qx7uK9MiE0h"
      },
      "execution_count": 5,
      "outputs": []
    },
    {
      "cell_type": "markdown",
      "source": [
        "# Scores \n",
        "\n",
        "Important note: NO ANY DIRECT MENTIONS of any label in the CV text itself"
      ],
      "metadata": {
        "id": "doH1pb_9vWgO"
      }
    },
    {
      "cell_type": "code",
      "source": [
        "results = dict(zip(scored['labels'], scored['scores']))\n",
        "results"
      ],
      "metadata": {
        "colab": {
          "base_uri": "https://localhost:8080/"
        },
        "id": "jtCjOAl0t6iQ",
        "outputId": "0dbbc99b-8516-4c5e-ea6d-e680b7d18b82"
      },
      "execution_count": 6,
      "outputs": [
        {
          "output_type": "execute_result",
          "data": {
            "text/plain": [
              "{'Machine Learning': 0.4012615382671356,\n",
              " 'Natural Language Processing': 0.28150954842567444,\n",
              " 'blockchain': 0.011000248603522778,\n",
              " 'copywriting': 0.0009284293046221137,\n",
              " 'front-end': 0.03283776715397835,\n",
              " 'gaming': 0.0008741150959394872,\n",
              " 'php': 0.008403555490076542,\n",
              " 'risks management': 0.006659574341028929}"
            ]
          },
          "metadata": {},
          "execution_count": 6
        }
      ]
    },
    {
      "cell_type": "markdown",
      "source": [
        "# Classification / scoring results VISUALIZATION"
      ],
      "metadata": {
        "id": "OSqxwdXFzesX"
      }
    },
    {
      "cell_type": "code",
      "source": [
        "import matplotlib.pyplot as plt\n",
        "\n",
        "data = results\n",
        "names = list(data.keys())\n",
        "values = list(data.values())\n",
        "plt.xticks(rotation='vertical')\n",
        "\n",
        "colors = ['red' if item>1/len(scored['scores']) else 'green' for item in scored['scores']] \n",
        "\n",
        "plt.bar(range(len(data)),values,tick_label=names, color=colors)\n",
        "\n",
        "# plt.savefig('bar.png')\n",
        "plt.show()"
      ],
      "metadata": {
        "colab": {
          "base_uri": "https://localhost:8080/",
          "height": 401
        },
        "id": "1Wv5-65svtn6",
        "outputId": "86d5234d-0e73-4b90-9212-c88cad5e0f37"
      },
      "execution_count": 7,
      "outputs": [
        {
          "output_type": "display_data",
          "data": {
            "text/plain": [
              "<Figure size 432x288 with 1 Axes>"
            ],
            "image/png": "[encoded data removed]"
          },
          "metadata": {
            "needs_background": "light"
          }
        }
      ]
    },
    {
      "cell_type": "code",
      "source": [
        ""
      ],
      "metadata": {
        "id": "UwrgWKvSyI1Q"
      },
      "execution_count": 7,
      "outputs": []
    }
  ]
}