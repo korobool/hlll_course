{
  "cells": [
    {
      "cell_type": "markdown",
      "id": "fe92d889",
      "metadata": {
        "id": "fe92d889"
      },
      "source": [
        "\n",
        "# Linear Regression Learning Materials\n",
        "\n",
        "This notebook presents learning materials for understanding and implementing linear regression,\n",
        "one of the most fundamental algorithms in machine learning and statistics.\n",
        "We'll explore two approaches: using pure Python and employing NumPy for efficient computation.\n"
      ]
    },
    {
      "cell_type": "markdown",
      "id": "074962df",
      "metadata": {
        "id": "074962df"
      },
      "source": [
        "\n",
        "## Linear Regression with Pure Python\n",
        "\n",
        "Linear regression aims to model the relationship between two variables by fitting a linear equation to observed data.\n",
        "One variable is considered to be an explanatory variable, and the other is considered to be a dependent variable.\n",
        "\n",
        "### Formula\n",
        "\n",
        "The formula for a simple linear regression model is:\n",
        "\n",
        "$$ y = mx + b $$\n",
        "\n",
        "where:\n",
        "- $y$ is the dependent variable,\n",
        "- $x$ is the independent variable,\n",
        "- $m$ is the slope of the line,\n",
        "- $b$ is the y-intercept.\n",
        "\n",
        "### Example: Calculating Slope and Intercept\n",
        "\n",
        "First, let's calculate the slope ($m$) and intercept ($b$) using the least squares method.\n"
      ]
    },
    {
      "cell_type": "code",
      "execution_count": 1,
      "id": "18014a73",
      "metadata": {
        "colab": {
          "base_uri": "https://localhost:8080/"
        },
        "id": "18014a73",
        "outputId": "183095df-04d4-448d-87d6-0823d3519298"
      },
      "outputs": [
        {
          "output_type": "stream",
          "name": "stdout",
          "text": [
            "Slope: 2.2\n",
            "Intercept: -1.0000000000000009\n"
          ]
        }
      ],
      "source": [
        "\n",
        "# Sample Data\n",
        "x = [1, 2, 3, 4, 5]\n",
        "y = [2, 3, 5, 7, 11]\n",
        "\n",
        "# Calculating mean of x and y\n",
        "x_mean = sum(x) / len(x)\n",
        "y_mean = sum(y) / len(y)\n",
        "\n",
        "# Calculating slope (m)\n",
        "numerator = sum((xi - x_mean) * (yi - y_mean) for xi, yi in zip(x, y))\n",
        "denominator = sum((xi - x_mean) ** 2 for xi in x)\n",
        "m = numerator / denominator\n",
        "\n",
        "# Calculating intercept (b)\n",
        "b = y_mean - m * x_mean\n",
        "\n",
        "print(\"Slope:\", m)\n",
        "print(\"Intercept:\", b)\n"
      ]
    },
    {
      "cell_type": "markdown",
      "id": "e427080a",
      "metadata": {
        "id": "e427080a"
      },
      "source": [
        "\n",
        "## Linear Regression with NumPy\n",
        "\n",
        "NumPy provides a more efficient way to perform linear regression, especially for large datasets.\n",
        "Using NumPy, we can simplify the computation using vectorized operations.\n",
        "\n",
        "### NumPy Solution\n",
        "\n",
        "Here's how we can implement the same linear regression model using NumPy.\n"
      ]
    },
    {
      "cell_type": "code",
      "execution_count": 2,
      "id": "1e67d48e",
      "metadata": {
        "colab": {
          "base_uri": "https://localhost:8080/"
        },
        "id": "1e67d48e",
        "outputId": "339d2155-0226-4ee7-cb69-6c19ad0e135d"
      },
      "outputs": [
        {
          "output_type": "stream",
          "name": "stdout",
          "text": [
            "Slope: 2.2\n",
            "Intercept: -1.0000000000000009\n"
          ]
        }
      ],
      "source": [
        "\n",
        "import numpy as np\n",
        "\n",
        "# Sample Data\n",
        "x = np.array([1, 2, 3, 4, 5])\n",
        "y = np.array([2, 3, 5, 7, 11])\n",
        "\n",
        "# Calculating slope (m) and intercept (b) using NumPy\n",
        "x_mean = np.mean(x)\n",
        "y_mean = np.mean(y)\n",
        "\n",
        "m = np.sum((x - x_mean) * (y - y_mean)) / np.sum((x - x_mean)**2)\n",
        "b = y_mean - m * x_mean\n",
        "\n",
        "print(\"Slope:\", m)\n",
        "print(\"Intercept:\", b)\n"
      ]
    },
    {
      "cell_type": "markdown",
      "id": "696b3bdd",
      "metadata": {
        "id": "696b3bdd"
      },
      "source": [
        "\n",
        "### Visualization of Results with Pure Python\n",
        "\n",
        "We can visualize the regression line with our data points using matplotlib.\n"
      ]
    },
    {
      "cell_type": "code",
      "execution_count": 3,
      "id": "7c1399b6",
      "metadata": {
        "colab": {
          "base_uri": "https://localhost:8080/",
          "height": 430
        },
        "id": "7c1399b6",
        "outputId": "d1450964-6d14-4679-d3b8-bccfbfd5a50c"
      },
      "outputs": [
        {
          "output_type": "display_data",
          "data": {
            "text/plain": [
              "<Figure size 640x480 with 1 Axes>"
            ],
            "image/png": "[encoded data removed]"
          },
          "metadata": {}
        }
      ],
      "source": [
        "\n",
        "import matplotlib.pyplot as plt\n",
        "\n",
        "# Calculated slope and intercept from previous cell\n",
        "# Assuming m and b are already calculated\n",
        "\n",
        "# Generating regression line's y values\n",
        "regression_line = [(m*x) + b for x in x]\n",
        "\n",
        "plt.scatter(x, y, color='blue', label='Data Points')\n",
        "plt.plot(x, regression_line, color='red', label='Regression Line')\n",
        "plt.legend()\n",
        "plt.show()\n"
      ]
    },
    {
      "cell_type": "markdown",
      "id": "5a77a768",
      "metadata": {
        "id": "5a77a768"
      },
      "source": [
        "\n",
        "### Visualization of Results with NumPy\n",
        "\n",
        "Similar to the pure Python approach, we can visualize the NumPy linear regression results.\n"
      ]
    },
    {
      "cell_type": "code",
      "execution_count": 4,
      "id": "89fcb30b",
      "metadata": {
        "colab": {
          "base_uri": "https://localhost:8080/",
          "height": 430
        },
        "id": "89fcb30b",
        "outputId": "5652bd49-69c6-4a26-8493-a398f0beb5d1"
      },
      "outputs": [
        {
          "output_type": "display_data",
          "data": {
            "text/plain": [
              "<Figure size 640x480 with 1 Axes>"
            ],
            "image/png": "[encoded data removed]"
          },
          "metadata": {}
        }
      ],
      "source": [
        "\n",
        "import matplotlib.pyplot as plt\n",
        "\n",
        "# Calculated slope and intercept from previous cell\n",
        "# Assuming m and b are already calculated\n",
        "\n",
        "# Generating regression line's y values\n",
        "regression_line = [(m*x) + b for x in x]\n",
        "\n",
        "plt.scatter(x, y, color='blue', label='Data Points')\n",
        "plt.plot(x, regression_line, color='red', label='Regression Line')\n",
        "plt.legend()\n",
        "plt.show()\n"
      ]
    },
    {
      "cell_type": "code",
      "source": [],
      "metadata": {
        "id": "CMxpyx--lgTq"
      },
      "id": "CMxpyx--lgTq",
      "execution_count": 4,
      "outputs": []
    }
  ],
  "metadata": {
    "colab": {
      "provenance": []
    },
    "language_info": {
      "name": "python"
    },
    "kernelspec": {
      "name": "python3",
      "display_name": "Python 3"
    }
  },
  "nbformat": 4,
  "nbformat_minor": 5
}